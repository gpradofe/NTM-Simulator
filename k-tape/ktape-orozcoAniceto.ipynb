{
 "cells": [
  {
   "cell_type": "code",
   "execution_count": 24,
   "metadata": {},
   "outputs": [
    {
     "name": "stdout",
     "output_type": "stream",
     "text": [
      "Step 0:\n"
     ]
    },
    {
     "ename": "IndexError",
     "evalue": "string index out of range",
     "output_type": "error",
     "traceback": [
      "\u001b[1;31m---------------------------------------------------------------------------\u001b[0m",
      "\u001b[1;31mIndexError\u001b[0m                                Traceback (most recent call last)",
      "\u001b[1;32mc:\\Users\\Gustavo Aniceto\\source\\repos\\NTM-Simulator\\k-tape\\ktape-orozcoAniceto.ipynb Cell 1\u001b[0m line \u001b[0;36m7\n\u001b[0;32m     <a href='vscode-notebook-cell:/c%3A/Users/Gustavo%20Aniceto/source/repos/NTM-Simulator/k-tape/ktape-orozcoAniceto.ipynb#X21sZmlsZQ%3D%3D?line=67'>68</a>\u001b[0m \u001b[39m# Example Usage\u001b[39;00m\n\u001b[0;32m     <a href='vscode-notebook-cell:/c%3A/Users/Gustavo%20Aniceto/source/repos/NTM-Simulator/k-tape/ktape-orozcoAniceto.ipynb#X21sZmlsZQ%3D%3D?line=68'>69</a>\u001b[0m machine \u001b[39m=\u001b[39m KTapeTuringMachine(\u001b[39m\"\u001b[39m\u001b[39ma_plus.txt\u001b[39m\u001b[39m\"\u001b[39m)\n\u001b[1;32m---> <a href='vscode-notebook-cell:/c%3A/Users/Gustavo%20Aniceto/source/repos/NTM-Simulator/k-tape/ktape-orozcoAniceto.ipynb#X21sZmlsZQ%3D%3D?line=69'>70</a>\u001b[0m machine\u001b[39m.\u001b[39;49mrun()\n",
      "\u001b[1;32mc:\\Users\\Gustavo Aniceto\\source\\repos\\NTM-Simulator\\k-tape\\ktape-orozcoAniceto.ipynb Cell 1\u001b[0m line \u001b[0;36m5\n\u001b[0;32m     <a href='vscode-notebook-cell:/c%3A/Users/Gustavo%20Aniceto/source/repos/NTM-Simulator/k-tape/ktape-orozcoAniceto.ipynb#X21sZmlsZQ%3D%3D?line=50'>51</a>\u001b[0m     tape_str \u001b[39m=\u001b[39m \u001b[39m'\u001b[39m\u001b[39m'\u001b[39m\u001b[39m.\u001b[39mjoin(tape)\u001b[39m.\u001b[39mrstrip()\n\u001b[0;32m     <a href='vscode-notebook-cell:/c%3A/Users/Gustavo%20Aniceto/source/repos/NTM-Simulator/k-tape/ktape-orozcoAniceto.ipynb#X21sZmlsZQ%3D%3D?line=51'>52</a>\u001b[0m     head_pos \u001b[39m=\u001b[39m \u001b[39mself\u001b[39m\u001b[39m.\u001b[39mhead_positions[i]\n\u001b[1;32m---> <a href='vscode-notebook-cell:/c%3A/Users/Gustavo%20Aniceto/source/repos/NTM-Simulator/k-tape/ktape-orozcoAniceto.ipynb#X21sZmlsZQ%3D%3D?line=52'>53</a>\u001b[0m     tape_str \u001b[39m=\u001b[39m tape_str[:head_pos] \u001b[39m+\u001b[39m \u001b[39m'\u001b[39m\u001b[39m[\u001b[39m\u001b[39m'\u001b[39m \u001b[39m+\u001b[39m tape_str[head_pos] \u001b[39m+\u001b[39m \u001b[39m'\u001b[39m\u001b[39m]\u001b[39m\u001b[39m'\u001b[39m \u001b[39m+\u001b[39m tape_str[head_pos\u001b[39m+\u001b[39m\u001b[39m1\u001b[39m:]\n\u001b[0;32m     <a href='vscode-notebook-cell:/c%3A/Users/Gustavo%20Aniceto/source/repos/NTM-Simulator/k-tape/ktape-orozcoAniceto.ipynb#X21sZmlsZQ%3D%3D?line=53'>54</a>\u001b[0m     \u001b[39mprint\u001b[39m(\u001b[39mf\u001b[39m\u001b[39m\"\u001b[39m\u001b[39mTape \u001b[39m\u001b[39m{\u001b[39;00mi\u001b[39m+\u001b[39m\u001b[39m1\u001b[39m\u001b[39m}\u001b[39;00m\u001b[39m: \u001b[39m\u001b[39m{\u001b[39;00mtape_str\u001b[39m}\u001b[39;00m\u001b[39m\"\u001b[39m)\n\u001b[0;32m     <a href='vscode-notebook-cell:/c%3A/Users/Gustavo%20Aniceto/source/repos/NTM-Simulator/k-tape/ktape-orozcoAniceto.ipynb#X21sZmlsZQ%3D%3D?line=54'>55</a>\u001b[0m \u001b[39mprint\u001b[39m()\n",
      "\u001b[1;31mIndexError\u001b[0m: string index out of range"
     ]
    }
   ],
   "source": [
    "class KTapeTuringMachine:\n",
    "    def __init__(self, file_name):\n",
    "        self.tapes = []\n",
    "        self.transitions = {}\n",
    "        self.current_state = 'START'\n",
    "        self.read_input(file_name)\n",
    "\n",
    "    def read_input(self, file_name):\n",
    "        with open(file_name, 'r') as file:\n",
    "            first_line = file.readline().strip().split()\n",
    "            self.machine_name, k = first_line[0], int(first_line[1])\n",
    "            self.tapes = [[' '] for _ in range(k)]\n",
    "            self.head_positions = [0 for _ in range(k)]\n",
    "\n",
    "            for line in file:\n",
    "                parts = line.strip().split()\n",
    "                current_state, tape_symbols, next_state = parts[0], parts[1:k+1], parts[k+1]\n",
    "                replacement_symbols, movements = parts[k+2:2*k+2], parts[2*k+2:]\n",
    "                key = (current_state, tuple(tape_symbols))\n",
    "                self.transitions[key] = (next_state, replacement_symbols, movements)\n",
    "\n",
    "    def find_transition(self):\n",
    "        current_symbols = [self.tapes[i][self.head_positions[i]] for i in range(len(self.tapes))]\n",
    "        for key in self.transitions:\n",
    "            state, symbols = key\n",
    "            if state == self.current_state and all(s == c or s == '*' for s, c in zip(symbols, current_symbols)):\n",
    "                return key\n",
    "        return None\n",
    "\n",
    "    def apply_transition(self, key):\n",
    "        next_state, replacements, movements = self.transitions[key]\n",
    "        self.current_state = next_state\n",
    "        for i in range(len(self.tapes)):\n",
    "            if replacements[i] != '*':\n",
    "                self.tapes[i][self.head_positions[i]] = replacements[i]\n",
    "            if movements[i] == 'R':\n",
    "                self.head_positions[i] += 1\n",
    "                if self.head_positions[i] == len(self.tapes[i]):\n",
    "                    self.tapes[i].append(' ')\n",
    "            elif movements[i] == 'L':\n",
    "                self.head_positions[i] -= 1\n",
    "                if self.head_positions[i] < 0:\n",
    "                    self.tapes[i].insert(0, ' ')\n",
    "                    self.head_positions[i] = 0\n",
    "\n",
    "    def run(self):\n",
    "        step = 0\n",
    "        while True:\n",
    "            print(f\"Step {step}:\")\n",
    "            for i, tape in enumerate(self.tapes):\n",
    "                tape_str = ''.join(tape).rstrip()\n",
    "                head_pos = self.head_positions[i]\n",
    "                if head_pos >= len(tape_str):  # Add a space if head is at the end\n",
    "                    tape_str += ' '\n",
    "                tape_str = tape_str[:head_pos] + '[' + tape_str[head_pos] + ']' + tape_str[head_pos+1:]\n",
    "                print(f\"Tape {i+1}: {tape_str}\")\n",
    "            print()\n",
    "\n",
    "            transition_key = self.find_transition()\n",
    "            if transition_key is None:\n",
    "                break\n",
    "            self.apply_transition(transition_key)\n",
    "            step += 1\n",
    "\n",
    "        print(\"Final tapes:\")\n",
    "        for i, tape in enumerate(self.tapes):\n",
    "            print(f\"Tape {i+1}: {''.join(tape).rstrip()}\")\n",
    "\n",
    "\n",
    "\n",
    "# Example Usage\n",
    "machine = KTapeTuringMachine(\"a_plus.txt\")\n",
    "machine.run()\n"
   ]
  }
 ],
 "metadata": {
  "kernelspec": {
   "display_name": "Python 3",
   "language": "python",
   "name": "python3"
  },
  "language_info": {
   "codemirror_mode": {
    "name": "ipython",
    "version": 3
   },
   "file_extension": ".py",
   "mimetype": "text/x-python",
   "name": "python",
   "nbconvert_exporter": "python",
   "pygments_lexer": "ipython3",
   "version": "3.10.11"
  }
 },
 "nbformat": 4,
 "nbformat_minor": 2
}
